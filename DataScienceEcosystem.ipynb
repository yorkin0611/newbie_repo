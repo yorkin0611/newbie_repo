{
 "cells": [
  {
   "cell_type": "markdown",
   "id": "a22ab6db-8dd5-49dd-8971-afe3ef431fa6",
   "metadata": {
    "tags": []
   },
   "source": [
    "# Data Science Tools and Ecosystem"
   ]
  },
  {
   "cell_type": "markdown",
   "id": "1bef61ed-b5a3-44ea-a9d3-2fc716ce3efb",
   "metadata": {},
   "source": [
    "In this notebook, Data Science Tools and Ecosystem are summarized."
   ]
  },
  {
   "cell_type": "markdown",
   "id": "ef8882a6-1b69-43de-b9e0-f26e2d0102cf",
   "metadata": {},
   "source": [
    "**Objectives**:\n",
    "- List some of the popular languages used in Data Science\n",
    "- Mention some of the commonly used libraries across various languages\n",
    "- List popular Integrated Development Environments (IDEs)\n",
    "- Demonstrate functionalities of Jupyter Lab notebooks such as code writing and markdown cells\n",
    "- Demonstrate functionalities of basic arithmetic within code-dedicated cells of Jupyter notebooks\n",
    "- Demonstrate functionalities of code version control in Git/GitHub services"
   ]
  },
  {
   "cell_type": "markdown",
   "id": "a7c3b26c-a5ba-44c3-bbba-f087eefe1288",
   "metadata": {},
   "source": [
    "Some of the popular languages that Data Scientists use are:\n",
    "1. Python\n",
    "2. R\n",
    "3. SQL\n",
    "4. Julia\n",
    "5. Scala"
   ]
  },
  {
   "cell_type": "markdown",
   "id": "84980ad5-70c7-4809-ad70-3adee8c7c5a0",
   "metadata": {},
   "source": [
    "Some of the commonly used libraries used by Data Scientists include:\n",
    "1. matplotlib\n",
    "2. numpy\n",
    "3. pandas\n",
    "4. scikit-learn\n",
    "5. ggplot2\n",
    "6. dplyr"
   ]
  },
  {
   "cell_type": "markdown",
   "id": "c2e50dd9-5d04-48b4-b464-8cd274bcaea2",
   "metadata": {
    "tags": []
   },
   "source": [
    "| Data Science Tools |\n",
    "| ------------------ |\n",
    "| Visual Studio Code |\n",
    "| PyCharm |\n",
    "| Jupyter Lab |\n",
    "| Spyder |\n",
    "| Google Colab |"
   ]
  },
  {
   "cell_type": "markdown",
   "id": "0ccde186-c774-4dd4-803d-35cd1a7fb4f9",
   "metadata": {},
   "source": [
    "### Below are a few examples of evaluating arithmetic expressions in Python."
   ]
  },
  {
   "cell_type": "code",
   "execution_count": 2,
   "id": "a0eae666-c6f2-4a10-b633-3a2b4da6dfdc",
   "metadata": {
    "tags": []
   },
   "outputs": [
    {
     "data": {
      "text/plain": [
       "17"
      ]
     },
     "execution_count": 2,
     "metadata": {},
     "output_type": "execute_result"
    }
   ],
   "source": [
    "# This a simple arithmetic expression to mutiply then add integers.\n",
    "(3 * 4) + 5"
   ]
  },
  {
   "cell_type": "code",
   "execution_count": 3,
   "id": "562fa627-1480-40df-a223-0adf0a5473d1",
   "metadata": {
    "tags": []
   },
   "outputs": [
    {
     "data": {
      "text/plain": [
       "3.3333333333333335"
      ]
     },
     "execution_count": 3,
     "metadata": {},
     "output_type": "execute_result"
    }
   ],
   "source": [
    "# This will convert 200 minutes to hours by diving by 60.\n",
    "200 / 60"
   ]
  },
  {
   "cell_type": "markdown",
   "id": "2fe39f0b-ed6c-45c3-aa16-5a781f983562",
   "metadata": {},
   "source": [
    "## Author\n",
    "Vanja Blažinić"
   ]
  },
  {
   "cell_type": "code",
   "execution_count": null,
   "id": "ade8bde9-4adb-49b1-b43f-dc956562b930",
   "metadata": {},
   "outputs": [],
   "source": []
  }
 ],
 "metadata": {
  "kernelspec": {
   "display_name": "Python",
   "language": "python",
   "name": "conda-env-python-py"
  },
  "language_info": {
   "codemirror_mode": {
    "name": "ipython",
    "version": 3
   },
   "file_extension": ".py",
   "mimetype": "text/x-python",
   "name": "python",
   "nbconvert_exporter": "python",
   "pygments_lexer": "ipython3",
   "version": "3.7.12"
  }
 },
 "nbformat": 4,
 "nbformat_minor": 5
}
